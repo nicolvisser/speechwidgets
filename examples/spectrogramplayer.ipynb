{
 "cells": [
  {
   "cell_type": "markdown",
   "metadata": {},
   "source": [
    "# Example Usage: `SpectrogramPlayer`"
   ]
  },
  {
   "cell_type": "code",
   "execution_count": 9,
   "metadata": {},
   "outputs": [],
   "source": [
    "from speechwidgets import SpectrogramPlayer"
   ]
  },
  {
   "cell_type": "code",
   "execution_count": 10,
   "metadata": {},
   "outputs": [],
   "source": [
    "with open('19-198-0001.word_intervals.txt', 'r') as f:\n",
    "    lines = f.readlines()\n",
    "    annotations = [line.strip().split(' ') for line in lines]"
   ]
  },
  {
   "cell_type": "code",
   "execution_count": 11,
   "metadata": {},
   "outputs": [],
   "source": [
    "with open('19-198-0001.phone_intervals.txt', 'r') as f:\n",
    "    lines = f.readlines()\n",
    "    annotations2 = [line.strip().split(' ') for line in lines]"
   ]
  },
  {
   "cell_type": "markdown",
   "metadata": {},
   "source": [
    "Basic usage:"
   ]
  },
  {
   "cell_type": "code",
   "execution_count": 12,
   "metadata": {},
   "outputs": [
    {
     "data": {
      "application/vnd.jupyter.widget-view+json": {
       "model_id": "f97f8883a13a4d8cab1dcd5ee95bf29b",
       "version_major": 2,
       "version_minor": 0
      },
      "text/plain": [
       "SpectrogramPlayer(dark=True, nav_height=60, spec_height=200, src='data:audio/wav;base64,UklGRsS+BQBXQVZFZm10IB…"
      ]
     },
     "execution_count": 12,
     "metadata": {},
     "output_type": "execute_result"
    }
   ],
   "source": [
    "SpectrogramPlayer(\n",
    "    wav_file_path='./19-198-0001.wav',\n",
    "    width=800,\n",
    "    spec_height=200,\n",
    "    navigator=True,\n",
    "    nav_height=60,\n",
    "    dark=True\n",
    ")"
   ]
  },
  {
   "cell_type": "markdown",
   "metadata": {},
   "source": [
    "Advanced usage:"
   ]
  },
  {
   "cell_type": "code",
   "execution_count": 13,
   "metadata": {},
   "outputs": [
    {
     "data": {
      "application/vnd.jupyter.widget-view+json": {
       "model_id": "d66306a71e2a44c8a5ccb34e3b9774da",
       "version_major": 2,
       "version_minor": 0
      },
      "text/plain": [
       "SpectrogramPlayer(colormap='greys', dark=True, navigator=False, settings=False, spec_height=200, src='data:aud…"
      ]
     },
     "execution_count": 13,
     "metadata": {},
     "output_type": "execute_result"
    }
   ],
   "source": [
    "SpectrogramPlayer(\n",
    "    wav_file_path='./19-198-0001.wav',\n",
    "    width=800,\n",
    "    spec_height=200,\n",
    "    navigator=False,\n",
    "    settings=False,\n",
    "    colormap=\"greys\",\n",
    "    transparent=False, # draws\n",
    "    dark=True, # to support dark theme notebooks\n",
    "    \n",
    "    # mel spec parameters:\n",
    "    n_fft=2048,\n",
    "    win_length=400,\n",
    "    hop_length=160,\n",
    "    f_min=50, \n",
    "    n_mels=80,\n",
    "    power=1.0,\n",
    "    \n",
    "    # amplitude to db parameter:\n",
    "    top_db=80 \n",
    ")"
   ]
  },
  {
   "cell_type": "code",
   "execution_count": 17,
   "metadata": {},
   "outputs": [
    {
     "data": {
      "application/vnd.jupyter.widget-view+json": {
       "model_id": "4e7b4f3494604804ab61cd5b42c4305f",
       "version_major": 2,
       "version_minor": 0
      },
      "text/plain": [
       "SpectrogramPlayer(annotations=array([['0', '0.54', '<SIL>'],\n",
       "       ['0.54', '0.84', 'this'],\n",
       "       ['0.84', …"
      ]
     },
     "execution_count": 17,
     "metadata": {},
     "output_type": "execute_result"
    }
   ],
   "source": [
    "SpectrogramPlayer(\n",
    "    wav_file_path='./19-198-0001.wav',\n",
    "    width=800,\n",
    "    spec_height=200,\n",
    "    navigator=True,\n",
    "    annotations=annotations,\n",
    "    annotations2=annotations2,\n",
    "    annotation_aspect_ratio=0.03,\n",
    "    annotation_stroke_width=1,\n",
    "    dark=True\n",
    ")"
   ]
  },
  {
   "cell_type": "code",
   "execution_count": null,
   "metadata": {},
   "outputs": [],
   "source": []
  }
 ],
 "metadata": {
  "kernelspec": {
   "display_name": "Python 3 (ipykernel)",
   "language": "python",
   "name": "python3"
  },
  "language_info": {
   "codemirror_mode": {
    "name": "ipython",
    "version": 3
   },
   "file_extension": ".py",
   "mimetype": "text/x-python",
   "name": "python",
   "nbconvert_exporter": "python",
   "pygments_lexer": "ipython3",
   "version": "3.10.10"
  }
 },
 "nbformat": 4,
 "nbformat_minor": 4
}
