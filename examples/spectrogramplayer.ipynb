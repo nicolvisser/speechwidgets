{
 "cells": [
  {
   "cell_type": "markdown",
   "metadata": {},
   "source": [
    "# Example Usage: `SpectrogramPlayer`"
   ]
  },
  {
   "cell_type": "code",
   "execution_count": 1,
   "metadata": {},
   "outputs": [],
   "source": [
    "from speechwidgets import SpectrogramPlayer\n",
    "import numpy as np"
   ]
  },
  {
   "cell_type": "code",
   "execution_count": 2,
   "metadata": {},
   "outputs": [],
   "source": [
    "wav_file_path = './19-198-0001.wav'\n",
    "sxx_file_path = './19-198-0001.npy'"
   ]
  },
  {
   "cell_type": "code",
   "execution_count": 3,
   "metadata": {},
   "outputs": [],
   "source": [
    "import base64\n",
    "\n",
    "with open(wav_file_path, 'rb') as f:\n",
    "    data = f.read()\n",
    "    \n",
    "b64 = base64.b64encode(data).decode('ascii')\n",
    "\n",
    "src = f\"data:audio/wav;base64,{b64}\""
   ]
  },
  {
   "cell_type": "code",
   "execution_count": 4,
   "metadata": {},
   "outputs": [],
   "source": [
    "sxx = np.load(sxx_file_path)"
   ]
  },
  {
   "cell_type": "code",
   "execution_count": 6,
   "metadata": {},
   "outputs": [
    {
     "data": {
      "application/vnd.jupyter.widget-view+json": {
       "model_id": "c67abd10279d4fd79b8dbd5b312b528b",
       "version_major": 2,
       "version_minor": 0
      },
      "text/plain": [
       "SpectrogramPlayer(nav_height=60, spec_height=200, src='data:audio/wav;base64,UklGRsS+BQBXQVZFZm10IBAAAAABAAEAg…"
      ]
     },
     "execution_count": 6,
     "metadata": {},
     "output_type": "execute_result"
    }
   ],
   "source": [
    "SpectrogramPlayer(\n",
    "    src=src,\n",
    "    sxx=sxx,\n",
    "    width=800,\n",
    "    spec_height=200,\n",
    "    navigator=True,\n",
    "    nav_height=60,\n",
    "    settings=True,\n",
    "    colormap=\"viridis\",\n",
    "    transparent=False,\n",
    "    dark=False,\n",
    ")"
   ]
  }
 ],
 "metadata": {
  "kernelspec": {
   "display_name": "Python 3 (ipykernel)",
   "language": "python",
   "name": "python3"
  },
  "language_info": {
   "codemirror_mode": {
    "name": "ipython",
    "version": 3
   },
   "file_extension": ".py",
   "mimetype": "text/x-python",
   "name": "python",
   "nbconvert_exporter": "python",
   "pygments_lexer": "ipython3",
   "version": "3.11.0"
  }
 },
 "nbformat": 4,
 "nbformat_minor": 4
}
