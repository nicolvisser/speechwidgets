{
 "cells": [
  {
   "cell_type": "markdown",
   "metadata": {},
   "source": [
    "# Example Usage: `SpectrogramPlayer`"
   ]
  },
  {
   "cell_type": "code",
   "execution_count": 1,
   "metadata": {},
   "outputs": [],
   "source": [
    "from speechwidgets import SpectrogramPlayer"
   ]
  },
  {
   "cell_type": "code",
   "execution_count": 2,
   "metadata": {},
   "outputs": [],
   "source": [
    "with open('19-198-0001.word_intervals.txt', 'r') as f:\n",
    "    lines = f.readlines()\n",
    "    word_intervals = [line.strip().split(' ') for line in lines]"
   ]
  },
  {
   "cell_type": "code",
   "execution_count": 3,
   "metadata": {},
   "outputs": [],
   "source": [
    "with open('19-198-0001.phone_intervals.txt', 'r') as f:\n",
    "    lines = f.readlines()\n",
    "    phone_intervals = [line.strip().split(' ') for line in lines]"
   ]
  },
  {
   "cell_type": "markdown",
   "metadata": {},
   "source": [
    "Basic usage:"
   ]
  },
  {
   "cell_type": "code",
   "execution_count": 4,
   "metadata": {},
   "outputs": [
    {
     "data": {
      "application/vnd.jupyter.widget-view+json": {
       "model_id": "8c2314c8ce264e608d587ae701cd65aa",
       "version_major": 2,
       "version_minor": 0
      },
      "text/plain": [
       "SpectrogramPlayer(dark=True, nav_height=60, spec_height=200, src='data:audio/wav;base64,UklGRsS+BQBXQVZFZm10IB…"
      ]
     },
     "execution_count": 4,
     "metadata": {},
     "output_type": "execute_result"
    }
   ],
   "source": [
    "SpectrogramPlayer(\n",
    "    wav_file_path='./19-198-0001.wav',\n",
    "    width=800,\n",
    "    spec_height=200,\n",
    "    navigator=True,\n",
    "    nav_height=60,\n",
    "    dark=True\n",
    ")"
   ]
  },
  {
   "cell_type": "markdown",
   "metadata": {},
   "source": [
    "Advanced usage:"
   ]
  },
  {
   "cell_type": "code",
   "execution_count": 5,
   "metadata": {},
   "outputs": [
    {
     "data": {
      "application/vnd.jupyter.widget-view+json": {
       "model_id": "db71818ad7034d2294ff6a3438e28983",
       "version_major": 2,
       "version_minor": 0
      },
      "text/plain": [
       "SpectrogramPlayer(colormap='greys', dark=True, navigator=False, settings=False, spec_height=200, src='data:aud…"
      ]
     },
     "execution_count": 5,
     "metadata": {},
     "output_type": "execute_result"
    }
   ],
   "source": [
    "SpectrogramPlayer(\n",
    "    wav_file_path='./19-198-0001.wav',\n",
    "    width=800,\n",
    "    spec_height=200,\n",
    "    navigator=False,\n",
    "    settings=False,\n",
    "    colormap=\"greys\",\n",
    "    transparent=False, # draws\n",
    "    dark=True, # to support dark theme notebooks\n",
    "    \n",
    "    # mel spec parameters:\n",
    "    n_fft=2048,\n",
    "    win_length=400,\n",
    "    hop_length=160,\n",
    "    f_min=50, \n",
    "    n_mels=80,\n",
    "    power=1.0,\n",
    "    \n",
    "    # amplitude to db parameter:\n",
    "    top_db=80 \n",
    ")"
   ]
  },
  {
   "cell_type": "code",
   "execution_count": 6,
   "metadata": {},
   "outputs": [],
   "source": [
    "annotations = [\n",
    "        {\n",
    "            \"data\": word_intervals,\n",
    "            \"title\": \"Word Intervals\",\n",
    "            \"height\": 30,\n",
    "            \"strokeWidth\": 1.0\n",
    "        },\n",
    "        {\n",
    "            \"data\": phone_intervals,\n",
    "            \"title\": \"Phone Intervals\",\n",
    "            \"height\": 30,\n",
    "            \"strokeWidth\": 1.0\n",
    "        }\n",
    "    ]"
   ]
  },
  {
   "cell_type": "code",
   "execution_count": 10,
   "metadata": {},
   "outputs": [],
   "source": [
    "s = SpectrogramPlayer(\n",
    "    wav_file_path='./19-198-0001.wav',\n",
    "    width=1000,\n",
    "    spec_height=200,\n",
    "    navigator=True,\n",
    "    dark=True,\n",
    ")"
   ]
  },
  {
   "cell_type": "code",
   "execution_count": 11,
   "metadata": {},
   "outputs": [],
   "source": [
    "s.annotate(data=word_intervals, title=\"Word Intervals\", height=20, stroke_width=0.5)\n",
    "s.annotate(data=phone_intervals, title=\"Phone Intervals\", height=20, stroke_width=0.5)"
   ]
  },
  {
   "cell_type": "code",
   "execution_count": 12,
   "metadata": {},
   "outputs": [
    {
     "data": {
      "application/vnd.jupyter.widget-view+json": {
       "model_id": "a4a78bc087bc42a4953ae0a91557aa23",
       "version_major": 2,
       "version_minor": 0
      },
      "text/plain": [
       "SpectrogramPlayer(annotations=[{'data': [['0', '0.54', '<SIL>'], ['0.54', '0.84', 'this'], ['0.84', '1.1', 'li…"
      ]
     },
     "execution_count": 12,
     "metadata": {},
     "output_type": "execute_result"
    }
   ],
   "source": [
    "s"
   ]
  },
  {
   "cell_type": "code",
   "execution_count": null,
   "metadata": {},
   "outputs": [],
   "source": []
  }
 ],
 "metadata": {
  "kernelspec": {
   "display_name": "Python 3 (ipykernel)",
   "language": "python",
   "name": "python3"
  },
  "language_info": {
   "codemirror_mode": {
    "name": "ipython",
    "version": 3
   },
   "file_extension": ".py",
   "mimetype": "text/x-python",
   "name": "python",
   "nbconvert_exporter": "python",
   "pygments_lexer": "ipython3",
   "version": "3.10.10"
  }
 },
 "nbformat": 4,
 "nbformat_minor": 4
}
